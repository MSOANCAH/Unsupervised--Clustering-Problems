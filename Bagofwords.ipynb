{
 "cells": [
  {
   "cell_type": "markdown",
   "metadata": {},
   "source": [
    "### Top 200 features or bag of words from the text documents"
   ]
  },
  {
   "cell_type": "code",
   "execution_count": 1,
   "metadata": {
    "collapsed": true
   },
   "outputs": [],
   "source": [
    "import re\n",
    "import os\n",
    "import collections\n",
    "import json\n",
    "import nltk\n",
    "stopwords = nltk.corpus.stopwords.words('english')\n",
    "files=os.listdir('Assignment_samples/')"
   ]
  },
  {
   "cell_type": "code",
   "execution_count": 2,
   "metadata": {
    "collapsed": false
   },
   "outputs": [],
   "source": [
    "#pre processing the text \n",
    "\n",
    "def normalize_text(text):\n",
    "    text=text.lower()\n",
    "    text = re.sub('((www\\.[^\\s]+)|(https?://[^\\s]+)|(pic\\.twitter\\.com/[^\\s]+))','', text)\n",
    "    text = re.sub('@[^\\s]+','', text)\n",
    "    text = re.sub('#([^\\s]+)', '', text)\n",
    "    text = re.sub('[:;>?<=*+()&,\\-#!$%\\{˜|\\}\\[^_\\\\@\\]1234567890’‘]',' ', text)\n",
    "    text = re.sub('[\\d]','', text)\n",
    "    text = text.replace(\".\", '')\n",
    "    text = text.replace(\"'\", '')\n",
    "    text = text.replace(\"`\", '')\n",
    "    text = text.replace(\"'s\", '')\n",
    "    text = text.replace(\"/\", ' ')\n",
    "    text = text.replace(\"\\\"\", ' ')\n",
    "    text = text.replace(\"\\\\\", '')\n",
    "    re.sub(' +', ' ', text)\n",
    "    text=text.replace('\\n', ' ').replace('\\r', ' ').replace('\\t', ' ')\n",
    "    #normalize some utf8 encoding\n",
    "    text = text.replace(\"\\x9d\",'').replace(\"\\x8c\",'')\n",
    "    text = text.replace(\"\\xa0\",'')\n",
    "    text = text.replace(\"\\x9d\\x92\", '').replace(\"\\x9a\\xaa\\xf0\\x9f\\x94\\xb5\", '').replace(\"\\xf0\\x9f\\x91\\x8d\\x87\\xba\\xf0\\x9f\\x87\\xb8\", '').replace(\"\\x9f\",'').replace(\"\\x91\\x8d\",'')\n",
    "    text = text.replace(\"\\xf0\\x9f\\x87\\xba\\xf0\\x9f\\x87\\xb8\",'').replace(\"\\xf0\",'').replace('\\xf0x9f','').replace(\"\\x9f\\x91\\x8d\",'').replace(\"\\x87\\xba\\x87\\xb8\",'')\n",
    "    text = text.replace(\"\\xe2\\x80\\x94\",'').replace(\"\\x9d\\xa4\",'').replace(\"\\x96\\x91\",'').replace(\"\\xe1\\x91\\xac\\xc9\\x8c\\xce\\x90\\xc8\\xbb\\xef\\xbb\\x89\\xd4\\xbc\\xef\\xbb\\x89\\xc5\\xa0\\xc5\\xa0\\xc2\\xb8\",'')\n",
    "    text = text.replace(\"\\xe2\\x80\\x99s\", \"\").replace(\"\\xe2\\x80\\x98\", '').replace(\"\\xe2\\x80\\x99\", '').replace(\"\\xe2\\x80\\x9c\", \"\").replace(\"\\xe2\\x80\\x9d\", \"\")\n",
    "    text = text.replace(\"\\xe2\\x82\\xac\", \"\").replace(\"\\xc2\\xa3\", \"\").replace(\"\\xc2\\xa0\", \"\").replace(\"\\xc2\\xab\", \"\").replace(\"\\xf0\\x9f\\x94\\xb4\", \"\").replace(\"\\xf0\\x9f\\x87\\xba\\xf0\\x9f\\x87\\xb8\\xf0\\x9f\", \"\")\n",
    "    text =  re.sub(r\"\\b[a-z]\\b\", \"\", text)\n",
    "    text=re.sub( '\\s+', ' ', text).strip()\n",
    "    \n",
    "    return text"
   ]
  },
  {
   "cell_type": "code",
   "execution_count": 3,
   "metadata": {
    "collapsed": false
   },
   "outputs": [],
   "source": [
    "#Reading documents, storing in a list\n",
    "\n",
    "documents=[]\n",
    "for file in files:\n",
    "    document = (''.join(open('Assignment_samples/'+ file).read()))\n",
    "    documents.append(normalize_text(document))"
   ]
  },
  {
   "cell_type": "code",
   "execution_count": 4,
   "metadata": {
    "collapsed": false
   },
   "outputs": [
    {
     "name": "stdout",
     "output_type": "stream",
     "text": [
      "[('the', 39826), ('of', 27423), ('and', 25256), ('to', 21562), ('in', 19656), ('or', 16870), ('is', 11479), ('by', 9868), ('this', 9767), ('for', 9524), ('ubs', 8239), ('as', 7124), ('on', 6649), ('any', 6281), ('securities', 6107), ('not', 5974), ('that', 5806), ('be', 5563), ('are', 5476), ('research', 5093)]\n"
     ]
    }
   ],
   "source": [
    "#get tokens and get counts for each token\n",
    "\n",
    "words=\" \".join(documents).split() \n",
    "count= collections.Counter(words).most_common()\n",
    "print(count[:20])"
   ]
  },
  {
   "cell_type": "code",
   "execution_count": 5,
   "metadata": {
    "collapsed": false
   },
   "outputs": [
    {
     "name": "stdout",
     "output_type": "stream",
     "text": [
      "[('ubs', 8239), ('securities', 6107), ('research', 5093), ('may', 5012), ('report', 4719), ('financial', 3988), ('investment', 3966), ('price', 3829), ('us', 3566), ('limited', 3337), ('credit', 3324), ('company', 3046), ('information', 2935), ('services', 2868), ('suisse', 2659), ('market', 2627), ('april', 2575), ('growth', 2411), ('jefferies', 2358), ('document', 2343)]\n"
     ]
    }
   ],
   "source": [
    "#Remove the stop words (words which don't give much meaning)\n",
    "\n",
    "new_count = []\n",
    "for key in count:\n",
    "    if key[0] not in stopwords:\n",
    "        new_count.append(key)\n",
    "print(new_count[:20])"
   ]
  },
  {
   "cell_type": "code",
   "execution_count": 6,
   "metadata": {
    "collapsed": true
   },
   "outputs": [],
   "source": [
    "#printing top 200 features\n",
    "\n",
    "top200features=[]\n",
    "top200featurescount=[]\n",
    "i=0\n",
    "for pair in new_count:\n",
    "    if i==200:\n",
    "        break\n",
    "    top200features.append(pair[0])\n",
    "    top200featurescount.append(pair[1])\n",
    "    i+=1\n",
    "\n",
    "with open('feature_list.txt','w') as f:\n",
    "    f.write(str(top200features))"
   ]
  },
  {
   "cell_type": "code",
   "execution_count": 7,
   "metadata": {
    "collapsed": false
   },
   "outputs": [
    {
     "data": {
      "image/png": "[encoded data removed]",
      "text/plain": [
       "<matplotlib.figure.Figure at 0x17982d68400>"
      ]
     },
     "metadata": {},
     "output_type": "display_data"
    }
   ],
   "source": [
    "#plotting top10 features \n",
    "# create a function for labeling #\n",
    "def autolabel(rects):\n",
    "    for rect in rects:\n",
    "        height = rect.get_height()\n",
    "        ax.text(rect.get_x() + rect.get_width()/2., 1.02*height,\n",
    "                '%d' % int(height),\n",
    "                ha='center', va='bottom')\n",
    "\n",
    "#plotting\n",
    "import numpy as np\n",
    "import matplotlib.pyplot as plt\n",
    "\n",
    "labels=np.array(top200features[:10])\n",
    "ind=np.arange(len(labels))\n",
    "values=np.array(top200featurescount[:10])\n",
    "\n",
    "fig,ax = plt.subplots()\n",
    "rects = ax.bar(ind,values,color='b')\n",
    "ax.set_xticklabels(labels,rotation='vertical')\n",
    "ax.set_xticks(ind)\n",
    "ax.set_title(\"Top 10 features\")\n",
    "ax.set_ylabel('count')\n",
    "autolabel(rects)\n",
    "plt.show()"
   ]
  },
  {
   "cell_type": "code",
   "execution_count": 8,
   "metadata": {
    "collapsed": true
   },
   "outputs": [],
   "source": [
    "# create a dictionary for all documents--> dict={key=index,value=pair of word and count} ex:{1:['word',20]}\n",
    "\n",
    "unique_words=[[i[0],i[1]] for i in new_count]\n",
    "unique_words=sorted(unique_words)\n",
    "dic = {i: word for i,word in enumerate(unique_words,1)}\n",
    "with open('dict.txt','w') as f:\n",
    "    f.write(json.dumps(dic))"
   ]
  },
  {
   "cell_type": "markdown",
   "metadata": {},
   "source": [
    "### Using Scikit learn to do the same in just a few lines of code"
   ]
  },
  {
   "cell_type": "code",
   "execution_count": 9,
   "metadata": {
    "collapsed": false
   },
   "outputs": [
    {
     "name": "stdout",
     "output_type": "stream",
     "text": [
      "[('ubs', 8239), ('securities', 6107), ('research', 5093), ('report', 4719), ('financial', 3988), ('investment', 3966), ('price', 3829), ('limited', 3337), ('credit', 3324), ('company', 3046), ('information', 2935), ('services', 2868), ('suisse', 2659), ('market', 2627), ('april', 2576), ('growth', 2411), ('jefferies', 2358), ('document', 2343), ('analyst', 2251), ('source', 2160)]\n"
     ]
    }
   ],
   "source": [
    "from sklearn.feature_extraction.text import CountVectorizer\n",
    "vectorizer = CountVectorizer(stop_words='english')\n",
    "\n",
    "bow = vectorizer.fit_transform(documents)\n",
    "freqs = [(word, bow.getcol(idx).sum()) for word, idx in vectorizer.vocabulary_.items()]\n",
    "results=sorted (freqs, key = lambda x: -x[1])\n",
    "print(results[:20])"
   ]
  },
  {
   "cell_type": "code",
   "execution_count": 10,
   "metadata": {
    "collapsed": false
   },
   "outputs": [
    {
     "name": "stdout",
     "output_type": "stream",
     "text": [
      "[('credit suisse', 2659), ('ubs securities', 1869), ('ubs limited', 1250), ('capital markets', 1195), ('ubs ag', 1178), ('rbc capital', 1139), ('financial services', 912), ('target price', 874), ('hong kong', 857), ('distributed ubs', 843), ('investment banking', 803), ('total return', 677), ('financial instruments', 637), ('securities llc', 614), ('nm nm', 606), ('research report', 597), ('price target', 587), ('na na', 568), ('research analyst', 565), ('research reports', 557)]\n"
     ]
    }
   ],
   "source": [
    "# for bi-grams\n",
    "vectorizer2 = CountVectorizer(ngram_range=(2, 2),stop_words='english')\n",
    "\n",
    "bow2 = vectorizer2.fit_transform(documents)\n",
    "freqs2 = [(word, bow2.getcol(idx).sum()) for word, idx in vectorizer2.vocabulary_.items()]\n",
    "results2=sorted (freqs2, key = lambda x: -x[1])\n",
    "print(results2[:20])"
   ]
  },
  {
   "cell_type": "code",
   "execution_count": 12,
   "metadata": {
    "collapsed": false
   },
   "outputs": [
    {
     "name": "stdout",
     "output_type": "stream",
     "text": [
      "[('ubs', 9.4299793832752528), ('rmb', 5.3621672534344915), ('jefferies', 4.8195064672662706), ('municipal', 4.0537529899400422), ('france', 3.9738796643488672), ('saudi', 3.8798423794017158), ('neo', 3.8705177541318498), ('pte', 3.8705177541318498), ('cv', 3.6516403841196547), ('financiero', 3.6430316361577724), ('grupo', 3.632837864005376), ('rbc', 3.6188649137052695), ('arabia', 3.4164081046746997), ('spolka', 3.4039036653119337), ('ograniczona', 3.4039036653119337), ('odpowiedzialnoscia', 3.4039036653119337), ('oddzial', 3.4039036653119337), ('polsce', 3.4039036653119337), ('sebi', 3.4039036653119337), ('nse', 3.4039036653119337)]\n"
     ]
    }
   ],
   "source": [
    "#if we wanna apply some weights we can use tf-idf\n",
    "from sklearn.feature_extraction.text import TfidfVectorizer\n",
    "\n",
    "vectorizer1 = TfidfVectorizer(sublinear_tf=True, max_df=0.5,\n",
    "                                 stop_words='english')\n",
    "bow1 = vectorizer1.fit_transform(documents)\n",
    "\n",
    "freqs1 = [(word, bow1.getcol(idx).sum()) for word, idx in vectorizer1.vocabulary_.items()]\n",
    "results1=sorted (freqs1, key = lambda x: -x[1])\n",
    "print(results1[:20])"
   ]
  },
  {
   "cell_type": "code",
   "execution_count": null,
   "metadata": {
    "collapsed": true
   },
   "outputs": [],
   "source": []
  }
 ],
 "metadata": {
  "kernelspec": {
   "display_name": "Python 3",
   "language": "python",
   "name": "python3"
  },
  "language_info": {
   "codemirror_mode": {
    "name": "ipython",
    "version": 3
   },
   "file_extension": ".py",
   "mimetype": "text/x-python",
   "name": "python",
   "nbconvert_exporter": "python",
   "pygments_lexer": "ipython3",
   "version": "3.6.0"
  }
 },
 "nbformat": 4,
 "nbformat_minor": 2
}
